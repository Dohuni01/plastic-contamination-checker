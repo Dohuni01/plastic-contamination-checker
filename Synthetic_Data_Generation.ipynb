{
 "cells": [
  {
   "cell_type": "markdown",
   "id": "986c897f-1eea-4894-a1e7-9c5ab8391a88",
   "metadata": {},
   "source": [
    "<h1>Sythetic Data Generation</h1>\n",
    "Create Dataset for Yolov8 <br>\n",
    "The scene is comprised of clean, dirty plates and bottles which resembles the run time image entry."
   ]
  },
  {
   "cell_type": "code",
   "execution_count": [
    1
   ],
   "id": "f124896f-2a0b-4e9a-b5dd-65f4b9bd6d84",
   "metadata": {},
   "outputs": [],
   "source": [
    "# jupyter notebook\n",
    "import nest_asyncio\n",
    "nest_asyncio.apply()"
   ]
  },
  {
   "cell_type": "code",
   "execution_count": [
    2
   ],
   "id": "7db905fc-e125-4647-b887-25d3270c1e47",
   "metadata": {},
   "outputs": [],
   "source": [
    "import omni\n",
    "from pxr import PhysicsSchemaTools, Gf, UsdGeom\n",
    "import numpy as np\n",
    "from omni.isaac.core.utils.stage import add_reference_to_stage\n",
    "from omni.isaac.core.utils.prims import get_prim_at_path"
   ]
  },
  {
   "cell_type": "markdown",
   "id": "9a8f02cb-b838-47fa-a1fa-5fb35ee18447",
   "metadata": {},
   "source": [
    "<h2><font color='DimGray'>Load Stage</font></h2>"
   ]
  },
  {
   "cell_type": "code",
   "execution_count": [
    3
   ],
   "id": "f2a461a7-4122-4831-b0bf-14db5a3784a5",
   "metadata": {},
   "outputs": [],
   "source": [
    "root_dir = \"/home/kijung914/myisaac/myfiles\""
   ]
  },
  {
   "cell_type": "code",
   "execution_count": [
    4
   ],
   "id": "6a3621c3-07f5-4a83-81b0-8250d380c007",
   "metadata": {},
   "outputs": [],
   "source": [
    "# Opening a Stage\n",
    "usd_context = omni.usd.get_context()\n",
    "omni.kit.window.file.open_stage(f\"{root_dir}/usd_files/stage.usd\") #Load Stage\n",
    "\n",
    "# WAIT for world to load!!"
   ]
  },
  {
   "cell_type": "code",
   "execution_count": [
    5
   ],
   "id": "08ad0ac1-2884-431b-8fff-2b919c563d7a",
   "metadata": {},
   "outputs": [],
   "source": [
    "stage = omni.usd.get_context().get_stage() # Obtain Stage"
   ]
  },
  {
   "cell_type": "markdown",
   "id": "bbc90fd1-d5a9-4612-b8cc-17ca94e89962",
   "metadata": {},
   "source": [
    "<h2><font color='DimGray'>How to spawn plates</font></h2>"
   ]
  },
  {
   "cell_type": "code",
   "execution_count": [
    6
   ],
   "id": "917361c1-2626-4103-a16e-a7555082970a",
   "metadata": {},
   "outputs": [],
   "source": [
    "dirtyplate_file_path  = f\"{root_dir}/usd_files/dirty_plate.usd\"\n",
    "cleanplate_file_path = f\"{root_dir}/usd_files/clean_plate.usd\"\n",
    "\n",
    "dirtyplate_prim_path = \"/dirty_plate\"\n",
    "cleanplate_prim_path = \"/clean_plate\"\n",
    "\n",
    "bottle1_file_path  = f\"{root_dir}/usd_files/bottle1.usd\"\n",
    "bottle2_file_path  = f\"{root_dir}/usd_files/bottle2.usd\"\n",
    "bottle_prim_path = \"/bottle\""
   ]
  },
  {
   "cell_type": "code",
   "execution_count": [
    7
   ],
   "id": "7cdfd55c-5d4b-41d5-ae40-f63803648b0e",
   "metadata": {},
   "outputs": [],
   "source": [
    "def spawn_dirty_plate():\n",
    "    usd_path, prim_path = dirtyplate_file_path, dirtyplate_prim_path\n",
    "    \n",
    "    add_reference_to_stage(usd_path=usd_path, prim_path=prim_path) #Spawn\n",
    "    \n",
    "    xform = UsdGeom.Xformable(get_prim_at_path(prim_path)) # Apply necessary transforms\n",
    "    scale_op = xform.AddScaleOp()\n",
    "    rotate_op = xform.AddRotateXYZOp()\n",
    "    translate_op = xform.AddTranslateOp()\n",
    "    translate_op.Set(Gf.Vec3f(-5, 0, 1.8))\n",
    "\n",
    "def spawn_clean_plate():\n",
    "    usd_path, prim_path = cleanplate_file_path, cleanplate_prim_path\n",
    "    \n",
    "    add_reference_to_stage(usd_path=usd_path, prim_path=prim_path) #Spawn\n",
    "    \n",
    "    xform = UsdGeom.Xformable(get_prim_at_path(prim_path)) # Apply necessary transforms\n",
    "    scale_op = xform.AddScaleOp()\n",
    "    rotate_op = xform.AddRotateXYZOp()\n",
    "    translate_op = xform.AddTranslateOp()\n",
    "    translate_op.Set(Gf.Vec3f(-5, 0, 1.8))\n",
    "\n",
    "\n",
    "def spawn_bottle(key):\n",
    "    if key == 1:\n",
    "        usd_path = bottle1_file_path\n",
    "    else:\n",
    "        usd_path = bottle2_file_path\n",
    "\n",
    "    prim_path = bottle_prim_path\n",
    "    \n",
    "    add_reference_to_stage(usd_path=usd_path, prim_path=prim_path)#Spawn\n",
    "    \n",
    "    xform = UsdGeom.Xformable(get_prim_at_path(prim_path))# Apply necessary transforms to root xform\n",
    "    scale_op = xform.AddScaleOp()\n",
    "    translate_op = xform.AddTranslateOp()\n",
    "\n",
    "    xform = UsdGeom.Xformable(get_prim_at_path(f\"{prim_path}/Meshes\")) # # Apply necessary transforms to mesh xform\n",
    "    rotate_op = xform.AddRotateXYZOp()\n",
    "    \n",
    "    scale_op.Set(Gf.Vec3f(0.01,0.01,0.01))\n",
    "    rotate_op.Set(Gf.Vec3f(0, 0, 0))\n",
    "\n",
    "    translate_op.Set(Gf.Vec3f(-580, -4.5, 187))"
   ]
  },
  {
   "cell_type": "code",
   "execution_count": [
    8
   ],
   "id": "1ce945b5-fa6c-47d0-815d-74e2d2e23f45",
   "metadata": {},
   "outputs": [],
   "source": [
    "#spawn_dirty_plate()"
   ]
  },
  {
   "cell_type": "code",
   "execution_count": [
    9
   ],
   "id": "bdcbfc89-db96-4928-a730-146c0283b1fc",
   "metadata": {},
   "outputs": [],
   "source": [
    "#spawn_clean_plate()"
   ]
  },
  {
   "cell_type": "code",
   "execution_count": [
    10
   ],
   "id": "fe66b1e6-3fd6-4b3a-b608-48a8719415b3",
   "metadata": {},
   "outputs": [],
   "source": [
    "#spawn_bottle(1)"
   ]
  },
  {
   "cell_type": "markdown",
   "id": "751744ff-d05a-4eea-b3eb-99214c93c39e",
   "metadata": {},
   "source": [
    "<h2><font color='red'>Create Dataset with Replicator</font></h2>"
   ]
  },
  {
   "cell_type": "code",
   "execution_count": [
    11
   ],
   "id": "650dc269-681e-4ce4-b327-604dcaa249d3",
   "metadata": {},
   "outputs": [],
   "source": [
    "def simulate(p=1, dp=1, b=0, save='', nframes=10):\n",
    "    import omni.replicator.core as rep\n",
    "    import random\n",
    "    rep.settings.set_render_pathtraced() # Set to path_traced\n",
    "\n",
    "    with rep.new_layer(): # Create new layer\n",
    "        camera = rep.create.camera(\n",
    "            position=(-4.9872, 0.01507, 3.76027),\n",
    "            look_at=(-4.9872, 0.01507, 0.0)\n",
    "        ) # Create Camera\n",
    "        render_product = rep.create.render_product(camera, (1024, 1024)) #Set render result as 1024x1024\n",
    "        \n",
    "        targets = [] # plates and bottles\n",
    "        dirty_prims = [] # prims for randomizing how dirty plate looks\n",
    "        bottle_orientation_prims = [] # prims for randomzing bottle orientation\n",
    "\n",
    "        if dp > 0: # If the scene needs at least one dirty plate\n",
    "            for i in range(dp):\n",
    "                dirty_plate = rep.create.from_usd(dirtyplate_file_path) # Create dirty plate\n",
    "                with dirty_plate:\n",
    "                    rep.modify.pose(position=(-5, 0, 1.8), rotation=(0, 0, 0), scale=1.0) # Move\n",
    "                    rep.modify.semantics([(\"class\", \"dirty_plate\")]) # Create Semantic\n",
    "                targets.append(dirty_plate) # Save to targets list\n",
    "\n",
    "                # For randomzing dirty plate apperance\n",
    "                dirty_prim = dirty_plate.get_output_prims()['prims'][0].GetPath().pathString\n",
    "                \n",
    "                dirty_light = rep.get.prims(\n",
    "                    path_pattern=f\"{dirty_prim}/Ref/myroot/dirty_light_out/dirty*\",\n",
    "                    prim_types=[\"Xform\"]\n",
    "                ) # For \"dirty sauce\" effect\n",
    "                dirty_blob = rep.get.prims(\n",
    "                    path_pattern=f\"{dirty_prim}/Ref/myroot/items/bl*\",\n",
    "                    prim_types=[\"Xform\"]\n",
    "                ) # For \"dirty chunck\" effect\n",
    "                \n",
    "                dirty_myplate = rep.get.prims(\n",
    "                    path_pattern=f\"{dirty_prim}/Ref/myroot\",\n",
    "                    prim_types=[\"Xform\"]\n",
    "                ) # For flipping <- Was not used\n",
    "\n",
    "                dirty_prims.append([dirty_light, dirty_blob, dirty_myplate]) # Save\n",
    "\n",
    "        if p > 0: # If the scene needs at least one clean plate\n",
    "            for _ in range(p):\n",
    "                clean_plate = rep.create.from_usd(cleanplate_file_path) # Create clean plate\n",
    "                with clean_plate:\n",
    "                    rep.modify.pose(position=(-5, 0, 1.8), rotation=(0, 0, 0), scale=1.0) # Move\n",
    "                    rep.modify.semantics([(\"class\", \"clean_plate\")]) # Create semantic\n",
    "\n",
    "                targets.append(clean_plate) # Save to targets list\n",
    "                #clean plate does not need appearance randomization\n",
    "\n",
    "        if b > 0: # If the scene needs at least one bottle\n",
    "            choices = [1,2]\n",
    "            for _ in range(b):\n",
    "                key = random.choice(choices) # Choose between two bottle types\n",
    "                if key == 1:\n",
    "                    bottle = rep.create.from_usd(bottle1_file_path) # Spawn type 1 bottle\n",
    "                else:\n",
    "                    bottle = rep.create.from_usd(bottle2_file_path) # Spawn type 2 bottle\n",
    "\n",
    "                with bottle:\n",
    "                    rep.modify.pose(position=(-5, -0, 1.8), rotation=(0,0,0), scale=0.01) # Move\n",
    "                targets.append(bottle) # Save to targets list\n",
    "\n",
    "                # For bottle orientation randomization\n",
    "                bottle_path = bottle.get_output_prims()['prims'][0].GetPath().pathString\n",
    "                bottle_mesh = rep.get.prims(\n",
    "                    path_pattern=f\"{bottle_path}/Ref/Mesh*\",\n",
    "                    prim_types=[\"Xform\"]\n",
    "                )\n",
    "\n",
    "                bottle_orientation_prims.append(bottle_mesh) # Save\n",
    "\n",
    "\n",
    "        # Replicator Frame Generation!!\n",
    "        with rep.trigger.on_frame(num_frames=nframes): # create n amount of frames\n",
    "            if dp > 0:\n",
    "                for i in range(dp):\n",
    "                    # Flipping causes wrong teleport, so was not used\n",
    "                    #flip_list = [(180,0,0),(180,0,0)]\n",
    "                    #with dirty_myplate:\n",
    "                    #   rep.modify.pose(rotation=random.choice(flip_list))\n",
    "                    \n",
    "                    # Change light source -> change 'dirty sauce' effect\n",
    "                    dirty_light = dirty_prims[i][0]\n",
    "                    with dirty_light:\n",
    "                        rep.modify.pose(rotation=rep.distribution.uniform((-20,-20,-90),(20,20,90)))\n",
    "\n",
    "                    # Change 'dirty chunk'\n",
    "                    dirty_blob = dirty_prims[i][1]\n",
    "                    with dirty_blob:\n",
    "                        rep.modify.pose(position=rep.distribution.uniform((-0.08,-0.08,0),(0.08,0.08,0)))\n",
    "\n",
    "            if b > 0:\n",
    "                for i in range(b):\n",
    "                    # Change bottle orientation\n",
    "                    bottle_mesh = bottle_orientation_prims[i]\n",
    "                    with bottle_mesh:\n",
    "                        rep.modify.pose(rotation=rep.distribution.uniform((0,0,-180),(0,0,180)))\n",
    "\n",
    "            # With all the plates and bottles, change position\n",
    "            with rep.create.group(targets):\n",
    "                rep.modify.pose(\n",
    "                    position=rep.distribution.uniform((-5.65, -0.2, 1.8), (-4.34, 0.18, 1.95)))\n",
    "\n",
    "        # Save rendered image\n",
    "        if save=='coco': # if cocowriter\n",
    "            coco = rep.WriterRegistry.get(\"CocoWriter\")\n",
    "            coco.initialize(\n",
    "                output_dir=\"_output\",\n",
    "                category_to_labels={\n",
    "                    \"dirty_plate\": [\"dirty_plate\"], #\"plate\": [\"dirty_plate\", \"clean__plate\"]로 묶을 수 있음\n",
    "                    \"clean_plate\": [\"clean_plate\"]\n",
    "                },\n",
    "                json_file_name=\"instances_train.json\",\n",
    "                include_images=True\n",
    "            )\n",
    "            coco.attach([render_product])\n",
    "        elif save=='basic': # if basicwriter\n",
    "            writer = rep.WriterRegistry.get(\"BasicWriter\")\n",
    "            writer.initialize( output_dir=\"_output\", rgb=True,   bounding_box_2d_tight=True)\n",
    "            writer.attach([render_product])\n",
    "\n",
    "        # Begin\n",
    "        rep.orchestrator.run()"
   ]
  },
  {
   "cell_type": "code",
   "execution_count": [
    12
   ],
   "id": "82a53a51-836b-4576-b6bc-28bdf080d0bc",
   "metadata": {},
   "outputs": [],
   "source": [
    "simulate(p=1, dp=1, b=7, nframes=1300, save='basic') # clean 1, dirty 1, bottle 7, 1300 shots"
   ]
  }
 ],
 "metadata": {
  "kernelspec": {
   "display_name": "Omniverse (Python 3)",
   "language": "python",
   "name": "embedded_omniverse_python3_socket"
  },
  "language_info": {
   "file_extension": ".py",
   "mimetype": "text/x-python",
   "name": "python",
   "version": "3.10"
  }
 },
 "nbformat": 4,
 "nbformat_minor": 5
}
